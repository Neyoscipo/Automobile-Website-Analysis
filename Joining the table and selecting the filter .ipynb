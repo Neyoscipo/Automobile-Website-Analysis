{
 "cells": [
  {
   "cell_type": "code",
   "execution_count": 1,
   "id": "e8bbeba6",
   "metadata": {},
   "outputs": [],
   "source": [
    "import pandas as pd\n",
    "#pd.set_option(\"display.max_rows\", None)\n",
    "import re\n",
    "import numpy as np\n",
    "import os\n",
    "import matplotlib.pyplot as plt\n",
    "%matplotlib inline\n",
    "import seaborn as sns\n",
    "sns.set()\n",
    "#from warnings import filterwarnings \n",
    "#filterwarnings('ignore')\n",
    "#from sklearn.linear_model import LogisticRegression \n",
    "#from sklearn.model_selection import train_test_split \n",
    "#from sklearn.preprocessing import StandardScaler"
   ]
  },
  {
   "cell_type": "code",
   "execution_count": 2,
   "id": "383a5c62",
   "metadata": {},
   "outputs": [
    {
     "name": "stderr",
     "output_type": "stream",
     "text": [
      "/Users/mayorbaba/opt/anaconda3/lib/python3.8/site-packages/IPython/core/interactiveshell.py:3165: DtypeWarning: Columns (5) have mixed types.Specify dtype option on import or set low_memory=False.\n",
      "  has_raised = await self.run_ast_nodes(code_ast.body, cell_name,\n"
     ]
    }
   ],
   "source": [
    "##Joining the entire table ##\n",
    "time_data = pd.read_csv('edmundsen_leads.csv')\n",
    "table2018=pd.read_csv('18timi_cleaned.csv', parse_dates=['date'])\n",
    "table2019 =pd.read_csv('2019proper.csv', parse_dates=['date'])\n",
    "table2020=pd.read_csv('2020proper.csv', parse_dates=['date'])\n",
    "table2021=pd.read_csv('21timi final_cleaned_.csv', parse_dates=['date'])\n",
    "\n",
    "tableA = table2018.append([table2019,table2020,table2021])\n",
    "tableA.shape[0]\n",
    "\n",
    "tableA[\"OEM\"]=tableA[\"OEM\"].values.astype(str)\n",
    "tableA[\"MODEL\"]=tableA[\"MODEL\"].values.astype(str)\n",
    "tableA[\"YEAR_BUILT\"]=tableA[\"YEAR_BUILT\"].values.astype(str)\n",
    "tableA.to_csv('TALABI_ANALYSIS.csv')\n",
    "                                        "
   ]
  },
  {
   "cell_type": "code",
   "execution_count": 3,
   "id": "79ef4543",
   "metadata": {},
   "outputs": [],
   "source": [
    "###Removing the inventory rows ##\n",
    "inventory_table = tableA[tableA['OEM']=='inventory']\n",
    "#inventory_table.YEAR_BUILT.astype(int)\n",
    "#inventory_table"
   ]
  },
  {
   "cell_type": "code",
   "execution_count": 4,
   "id": "b9a3e763",
   "metadata": {},
   "outputs": [],
   "source": [
    "df = tableA[tableA['OEM']!='inventory']\n",
    "##df.to_csv('peakd.csv')"
   ]
  },
  {
   "cell_type": "code",
   "execution_count": 5,
   "id": "8cea7174",
   "metadata": {},
   "outputs": [
    {
     "data": {
      "text/plain": [
       "656142"
      ]
     },
     "execution_count": 5,
     "metadata": {},
     "output_type": "execute_result"
    }
   ],
   "source": [
    "###Performing futher cleaning for uniformity ##\n",
    "###Selecting columns\n",
    "needed = ['date', 'OEM', 'MODEL','newness_type','YEAR_BUILT', 'EXTCOLOR', 'INTCOLOR','hits']\n",
    "data = df[needed]\n",
    "data.shape[0]"
   ]
  },
  {
   "cell_type": "code",
   "execution_count": 6,
   "id": "62e39e93",
   "metadata": {},
   "outputs": [
    {
     "name": "stderr",
     "output_type": "stream",
     "text": [
      "<ipython-input-6-613791c5e4e1>:8: SettingWithCopyWarning: \n",
      "A value is trying to be set on a copy of a slice from a DataFrame.\n",
      "Try using .loc[row_indexer,col_indexer] = value instead\n",
      "\n",
      "See the caveats in the documentation: https://pandas.pydata.org/pandas-docs/stable/user_guide/indexing.html#returning-a-view-versus-a-copy\n",
      "  peakd_data['OEM'] = peakd_data['OEM'].str.upper()#### converting all strings in column to uppercase\n",
      "<ipython-input-6-613791c5e4e1>:9: SettingWithCopyWarning: \n",
      "A value is trying to be set on a copy of a slice from a DataFrame.\n",
      "Try using .loc[row_indexer,col_indexer] = value instead\n",
      "\n",
      "See the caveats in the documentation: https://pandas.pydata.org/pandas-docs/stable/user_guide/indexing.html#returning-a-view-versus-a-copy\n",
      "  peakd_data['MODEL'] = peakd_data['MODEL'].str.upper()\n"
     ]
    }
   ],
   "source": [
    "###Creating checkpoint##\n",
    "peakd_data= data\n",
    "###cut out extremely dirty data at the bottom###\n",
    "#table = table[0:65500] ####this could be an option at the extreme \n",
    "###Filtering by length if date ###\n",
    "###peakd_data= data[data.YEAR_BUILT.apply(lambda x: len(str(x))==4)]## use only data with lenght of year equal 4 digits\n",
    "###data1.replace(r'[^a-zA-Z ]\\s?',r'',regex=True) #####replace all alphanumeric values \n",
    "peakd_data['OEM'] = peakd_data['OEM'].str.upper()#### converting all strings in column to uppercase\n",
    "peakd_data['MODEL'] = peakd_data['MODEL'].str.upper()\n",
    "\n",
    "#peakd_data\n",
    "#peakd_data.to_csv('peakd_data_final.csv', index=False)"
   ]
  },
  {
   "cell_type": "code",
   "execution_count": null,
   "id": "7274eed2",
   "metadata": {},
   "outputs": [],
   "source": []
  }
 ],
 "metadata": {
  "kernelspec": {
   "display_name": "Python 3",
   "language": "python",
   "name": "python3"
  },
  "language_info": {
   "codemirror_mode": {
    "name": "ipython",
    "version": 3
   },
   "file_extension": ".py",
   "mimetype": "text/x-python",
   "name": "python",
   "nbconvert_exporter": "python",
   "pygments_lexer": "ipython3",
   "version": "3.8.8"
  }
 },
 "nbformat": 4,
 "nbformat_minor": 5
}
